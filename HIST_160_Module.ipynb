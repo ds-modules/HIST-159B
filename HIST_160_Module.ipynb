{
 "cells": [
  {
   "cell_type": "markdown",
   "metadata": {},
   "source": [
    "# [HIST 160] Introduction to Python & Graphing!\n",
    "\n",
    "In this exercise, we will go over how to use Python and Matplotlib to generate graphs!\n",
    "\n",
    "## Table of Contents\n",
    "1 - [Python & Math](#python)<br>\n",
    "2 - [Variables](#var)<br>\n",
    "3 - [Functions & For Loops](#func)<br>\n",
    "4 - [Data Structures](#data)<br>\n",
    "5 - [Graping Demographics](#graph)<br>\n",
    "6 - [Other Graphs](#other)<br>\n",
    "\n",
    "\n",
    "**Importing Dependencies:**\n",
    "\n",
    "What are Dependencies? Dependencies in Python are packages that adds extra functionality to Python, besides the language itself! For example, today we will be using a package called matplotlib to create beautiful graphs. In order to access it's abilities, we import it here:"
   ]
  },
  {
   "cell_type": "code",
   "execution_count": null,
   "metadata": {
    "collapsed": true
   },
   "outputs": [],
   "source": [
    "import math\n",
    "import numpy as np\n",
    "import pandas as pd\n",
    "import matplotlib\n",
    "%matplotlib inline\n",
    "import matplotlib.pyplot as plt\n",
    "import pandas as pd\n",
    "\n",
    "plt.style.use('fivethirtyeight')"
   ]
  },
  {
   "cell_type": "markdown",
   "metadata": {},
   "source": [
    "----\n",
    "\n",
    "## Section 1: Python - Math  <a id='python'></a>\n",
    "\n",
    "Python is the main programming language we'll use in the lecture. Although this lecture should give you the backbones of how to use Python, please feel free to review one or more of the following materials in your own time to learn more about Python. \n",
    "\n",
    "- **[Python Tutorial](https://docs.python.org/3.5/tutorial/)**: Introduction to Python from the creators of Python\n",
    "- **[Composing Programs Chapter 1](http://composingprograms.com/pages/11-getting-started.html)**: This is more of a introduction to programming with Python, from CS 61A\n",
    "\n",
    "<br>\n",
    "**Mathematical Expressions**\n",
    "\n",
    "In Python, we: \n",
    "- Add by using the '+' sign\n",
    "- Multiply by using the '*' sign\n",
    "- Exponentiate by using the '**' sign\n",
    "- Divide by using '/' sign\n",
    "- Floor Divide by using '//' sign (8 // 3 = 2, 9 // 5 = 1) \n",
    "- Take the remainder / modulus by using the '%' sign"
   ]
  },
  {
   "cell_type": "markdown",
   "metadata": {},
   "source": [
    "*Exercise:* Take the product of three and three to the power of six, and subtract 168."
   ]
  },
  {
   "cell_type": "code",
   "execution_count": null,
   "metadata": {},
   "outputs": [],
   "source": [
    "..."
   ]
  },
  {
   "cell_type": "markdown",
   "metadata": {},
   "source": [
    "---\n",
    "## Section 2: Variables  <a id='var'></a>\n",
    "A name that is used to denote something or a value is called a variable. In python, variables can be declared and values can be assigned. Here are a few examples of variables and their assignments:"
   ]
  },
  {
   "cell_type": "code",
   "execution_count": null,
   "metadata": {
    "collapsed": true
   },
   "outputs": [],
   "source": [
    "x = 2\n",
    "y = 3\n",
    "ab = \"Hi!\""
   ]
  },
  {
   "cell_type": "markdown",
   "metadata": {
    "nbgrader": {
     "cell_type": "markdown",
     "checksum": "1daa637fcc4cd5d89a98f1fa7a56d294",
     "grade": false,
     "grade_id": "output-and-printing",
     "locked": false,
     "schema_version": 2,
     "solution": false
    }
   },
   "source": [
    "**Output and Printing**\n",
    "\n",
    "Return and printing are two different things: \n",
    "- Return: A value is not necessarily printed, but it is stored away inside a computer, if we bind it! \n",
    "- Printing: A value pops up on our screen!\n",
    "\n",
    "We print using the **print** function and return a value using the **return** function. \n",
    "\n",
    "Here is a good point for us to take a break, and talk about calling functions. In Python, we have numerous functions, like: \n",
    "- print: print(SOMETHING) will print out the SOMETHING to our screen\n",
    "- sum: sum(VALUES) will sum up a lot of values together\n",
    "- And more!\n",
    "\n",
    "The most beautiful aspect about functions, actually, is that in Python, we can make our own functions, for anything we need to. We will discuss more about this a little later. \n",
    "\n",
    "For now, the most important thing to remember is that, to call a function, we write the function, like \"print\" and put paranthesis after the function like \"print()\". Then, we can put in our *arguments* inside the paranthesis, like \"print('Hi!')\" Arguments are what we call the function with, for example, it is the 'SOMETHING' in our print, or the 'VALUES' in our sum function.\n",
    "\n",
    "*Exercise:* Print the words 'Hello World!'"
   ]
  },
  {
   "cell_type": "code",
   "execution_count": null,
   "metadata": {},
   "outputs": [],
   "source": [
    "..."
   ]
  },
  {
   "cell_type": "markdown",
   "metadata": {},
   "source": [
    "---\n",
    "## Section 3: Functions, For Loops  <a id='func'></a>\n",
    "A function is a block of organized, reusable code that is used to perform a single, related action. \n",
    "\n",
    "There are built in python functions but you can also create your own! If I wanted to print, return, or do a mathematical operation without having to do it manually everytime, I could just create a function and call it!\n",
    "\n",
    "So, how do I create them? We create functions using `def`, with the following structure: \n",
    "\n",
    "`def function_name(arguments):\n",
    "    [function procedures]\n",
    "    return [output]`\n",
    "\n",
    "How do I call them after making them? We first write the function name, then put parenthesis around them, like so: \n",
    "\n",
    "\n",
    "<center>`function_name(arguments)`</center>"
   ]
  },
  {
   "cell_type": "code",
   "execution_count": null,
   "metadata": {
    "collapsed": true
   },
   "outputs": [],
   "source": [
    "def sum_multiply(a,b,c):\n",
    "    \"\"\" Adds 'a' and 'b * c' \"\"\"\n",
    "    # YOUR CODE HERE\n"
   ]
  },
  {
   "cell_type": "code",
   "execution_count": null,
   "metadata": {},
   "outputs": [],
   "source": [
    "sum_multiply(1, 2, 3)"
   ]
  },
  {
   "cell_type": "markdown",
   "metadata": {},
   "source": [
    "Something that also comes in very handy is what we call the \"for loops\" which repeats a block of code once for each element in a collection. \n",
    "\n",
    "Say I have a list of [1, 2, 3, 4, 5] and I want to add one to each element. This is **daunting**. But fear not, **for loop** is here to save your day! \n",
    "\n",
    "Let's walk through an example together: "
   ]
  },
  {
   "cell_type": "code",
   "execution_count": null,
   "metadata": {
    "collapsed": true
   },
   "outputs": [],
   "source": [
    "lst = [1, 2, 3, 4, 5]\n",
    "\n",
    "new_lst = []\n",
    "\n",
    "for elem in lst: \n",
    "    new_elem = elem + 1\n",
    "    new_lst.append(new_elem)"
   ]
  },
  {
   "cell_type": "code",
   "execution_count": null,
   "metadata": {},
   "outputs": [],
   "source": [
    "new_lst"
   ]
  },
  {
   "cell_type": "markdown",
   "metadata": {},
   "source": [
    "--- \n",
    "## Section 4: Data Structures <a id='data'></a>\n",
    "\n",
    "**List:** Lists are primitive data structures that store data in the form of a list. \n",
    "\n",
    "To define a list, equate a variable to `[]` or `list()`. We can index into lists by using `lst[]` or add to the list by calling `.extend()` or `.append()`\n",
    "\n",
    "Here is how to use lists: "
   ]
  },
  {
   "cell_type": "code",
   "execution_count": null,
   "metadata": {
    "collapsed": true
   },
   "outputs": [],
   "source": [
    "names = ['One', 'Two', 'Three', 'Four', 'Five']"
   ]
  },
  {
   "cell_type": "code",
   "execution_count": null,
   "metadata": {},
   "outputs": [],
   "source": [
    "names[0]"
   ]
  },
  {
   "cell_type": "code",
   "execution_count": null,
   "metadata": {},
   "outputs": [],
   "source": [
    "names[1 : 4]"
   ]
  },
  {
   "cell_type": "markdown",
   "metadata": {},
   "source": [
    "**Dictionary:** Dictionaries are more used like a database because here you can index a particular sequence with your user defined string.\n",
    "\n",
    "To define a dictionary, equate a variable to `{}` or `dict()`"
   ]
  },
  {
   "cell_type": "code",
   "execution_count": null,
   "metadata": {
    "collapsed": true
   },
   "outputs": [],
   "source": [
    "number_dict = {'One' : 1,\n",
    "               'Two' : 2, \n",
    "               'Three' : 3,\n",
    "               'Four' : 4,\n",
    "               'Five' : 5}"
   ]
  },
  {
   "cell_type": "code",
   "execution_count": null,
   "metadata": {},
   "outputs": [],
   "source": [
    "number_dict['One']"
   ]
  },
  {
   "cell_type": "code",
   "execution_count": null,
   "metadata": {},
   "outputs": [],
   "source": [
    "number_dict['Five']"
   ]
  },
  {
   "cell_type": "markdown",
   "metadata": {},
   "source": [
    "--- \n",
    "## Section 5: Graphing Demographics <a id='graph'></a>"
   ]
  },
  {
   "cell_type": "markdown",
   "metadata": {},
   "source": [
    "![title](image.png)"
   ]
  },
  {
   "cell_type": "markdown",
   "metadata": {},
   "source": [
    "In class we discussed the demographic transition - high birth and death rates give way to low birth and death rates, a pattern visually depicted above, and critical to our understanding of welfare programs, migration, inequality, and, really, practically any question concerning labor. Now we can go on to produce our very own display of this transition, by incorporating demographic data from a variety of countries."
   ]
  },
  {
   "cell_type": "markdown",
   "metadata": {},
   "source": [
    "--- \n",
    "## Section 6: Graph for Sweden Data <a id='graph'></a>"
   ]
  },
  {
   "cell_type": "markdown",
   "metadata": {},
   "source": [
    "Now, let's get down to business to draw beautiful graphs for, firstly, the Sweden data. We can then move forth to drawing graphs for everything else soon!\n",
    "\n",
    "### Objective:\n",
    "We discussed the demographic transition - high birth and death rates give way to low birth and death rates, a pattern visually depicted above. \n",
    "\n",
    "Our objective is to draw a graph like above, using a Python package called `matplotlib`, given a dataset containing the information. What does it mean for us? We will be able to visually see, instead of seeing numbers, how birth rates and death rates have evolved over time. "
   ]
  },
  {
   "cell_type": "markdown",
   "metadata": {},
   "source": [
    "### Introduction to Graphing in Python\n",
    "Graphing in Python is done using a package called `matplotlib`. \n",
    "\n",
    "`matplotlib` as a few cool features, like below: \n",
    "1. `plt.plot(x, y)` : This will plot out the graph of x and y data. \n",
    "2. `plt.xlabel(name)` : This will give the x-axis a label\n",
    "3. `plt.ylabel(name)` : This will give the y-axis a label\n",
    "4. `plt.title(name)` : This will give the title!\n",
    "5. `plt.show()` : This will allow us to \"see\" what we plotted"
   ]
  },
  {
   "cell_type": "code",
   "execution_count": null,
   "metadata": {},
   "outputs": [],
   "source": [
    "plt.plot([1, 2, 3, 4, 5], [1, 4, 9, 16, 25])\n",
    "plt.title(\"Simple Graph!\")\n",
    "plt.xlabel(\"X-Axis\")\n",
    "plt.ylabel(\"Y-Axis\")\n",
    "plt.show()"
   ]
  },
  {
   "cell_type": "markdown",
   "metadata": {},
   "source": [
    "#### 1. Using Pandas to Observe Data\n",
    "\n",
    "Firstly, we load the Sweden data to Pandas Dataframe (https://pandas.pydata.org/pandas-docs/stable/generated/pandas.DataFrame.html)\n",
    "\n",
    "*What does this do?* It takes the data from our Comma-Separated Values - CSV - file (think Excel files), and converts it into a format that Pandas, our primary data manipulation library, can read. "
   ]
  },
  {
   "cell_type": "code",
   "execution_count": null,
   "metadata": {
    "collapsed": true
   },
   "outputs": [],
   "source": [
    "sweden = pd.read_csv('data/sweden.csv')"
   ]
  },
  {
   "cell_type": "markdown",
   "metadata": {},
   "source": [
    "Now, let us observe the first few data. To do this, we will use `.head()` function"
   ]
  },
  {
   "cell_type": "code",
   "execution_count": null,
   "metadata": {},
   "outputs": [],
   "source": [
    "sweden.head()"
   ]
  },
  {
   "cell_type": "markdown",
   "metadata": {},
   "source": [
    "**Interesting!** It looks like we have Year, Population, Live Births, Deaths (and more!) columns. \n",
    "\n",
    "#### 2. Use Matplotlib to Draw *Beautiful* Graphs\n",
    "Our goal is to create a graph that looks at the demographic changes in Sweden. The way we create graphs in Python is to also use a package: `Matplotlib` which creates professional looking graphs! \n",
    "\n",
    "*(There are more packages out there, from Plotly to Seaborn, which also create beautiful graphs. But, the easiest and the most \"core\" tool that data scientists use is Matplotlib, so we will work mostly with that in this session.)*\n",
    "\n",
    "The question, then, is what should we draw a graph of? Should we draw a graph of: \n",
    "1. Population changes by year?\n",
    "2. Percentage population changes by year? \n",
    "3. Absolute population changes by year?\n",
    "\n",
    "We will start off with the easiest - population changes by year - and build our way up. "
   ]
  },
  {
   "cell_type": "markdown",
   "metadata": {},
   "source": [
    "If I tell you to draw a graph on Microsoft Excel, with year and population, what would you do? Our first instinct is to drag the columns, and click on the \"Draw Graph\" button. In Python, we have the power of selecting everything we want. \n",
    "\n",
    "Let's start by selecting what goes on the x-axis and y-axis! We can index into a column by using `[column name]` and then use `.values` to grab all the values of the column"
   ]
  },
  {
   "cell_type": "code",
   "execution_count": null,
   "metadata": {
    "collapsed": true
   },
   "outputs": [],
   "source": [
    "x_axis = sweden['Year'].values"
   ]
  },
  {
   "cell_type": "code",
   "execution_count": null,
   "metadata": {
    "collapsed": true
   },
   "outputs": [],
   "source": [
    "y_axis = sweden['Population'].values"
   ]
  },
  {
   "cell_type": "code",
   "execution_count": null,
   "metadata": {},
   "outputs": [],
   "source": [
    "plt.plot(x_axis, y_axis)\n",
    "plt.show()"
   ]
  },
  {
   "cell_type": "markdown",
   "metadata": {
    "collapsed": true
   },
   "source": [
    "Oh no! What has happened there? Although our code should create a beautiful graph, it looks like something is not working right. \n",
    "\n",
    "Take a look back to when we called `.head()`. We need **integer** values to create our graph, but taking a cursory look at the data, is this correct? \n",
    "\n",
    "*Hint: It is not!*\n",
    "\n",
    "Let's try to fix this issue then. We can try to re-import the data with some pre-fixes that Pandas has: `df.read_csv(file, thousands=',')`"
   ]
  },
  {
   "cell_type": "code",
   "execution_count": null,
   "metadata": {
    "collapsed": true
   },
   "outputs": [],
   "source": [
    "sweden = pd.read_csv('data/sweden.csv', thousands=',')"
   ]
  },
  {
   "cell_type": "markdown",
   "metadata": {},
   "source": [
    "We take a look at the data again. Does it look cleaner now? "
   ]
  },
  {
   "cell_type": "code",
   "execution_count": null,
   "metadata": {},
   "outputs": [],
   "source": [
    "sweden.head()"
   ]
  },
  {
   "cell_type": "code",
   "execution_count": null,
   "metadata": {
    "collapsed": true
   },
   "outputs": [],
   "source": [
    "x_axis = sweden['Year']"
   ]
  },
  {
   "cell_type": "code",
   "execution_count": null,
   "metadata": {
    "collapsed": true
   },
   "outputs": [],
   "source": [
    "y_axis = sweden['Population']"
   ]
  },
  {
   "cell_type": "code",
   "execution_count": null,
   "metadata": {},
   "outputs": [],
   "source": [
    "plt.plot(x_axis, y_axis)\n",
    "plt.xlabel('Year')\n",
    "plt.ylabel('Population')\n",
    "plt.title('Population of Sweden by Year')\n",
    "plt.grid(True)\n",
    "\n",
    "plt.show()"
   ]
  },
  {
   "cell_type": "markdown",
   "metadata": {},
   "source": [
    "We now define new variables to define the birth and death rate per population in Sweden by year. And, why don't we make them a little descriptive too?  "
   ]
  },
  {
   "cell_type": "code",
   "execution_count": null,
   "metadata": {
    "collapsed": true
   },
   "outputs": [],
   "source": [
    "birth_per_pop = 1000 * sweden['LiveBirths'] / y_axis\n",
    "death_per_pop = 1000 * sweden['Deaths'] / y_axis"
   ]
  },
  {
   "cell_type": "code",
   "execution_count": null,
   "metadata": {},
   "outputs": [],
   "source": [
    "# Go bears for gold and blue!\n",
    "plt.plot(x_axis, birth_per_pop, color='gold')\n",
    "plt.plot(x_axis, death_per_pop, color='blue')\n",
    "plt.xlabel('Year')\n",
    "plt.ylabel('Birth/Death Rate')\n",
    "plt.title('Birth/Death Rate of Sweden by Year')\n",
    "plt.grid(True)\n",
    "\n",
    "plt.show()"
   ]
  },
  {
   "cell_type": "markdown",
   "metadata": {},
   "source": [
    "---\n",
    "## Section 7: Other Graphs <a id='other'></a>\n",
    "\n",
    "Now, let's use what we did for Sweden to draw graphs for everything else!"
   ]
  },
  {
   "cell_type": "code",
   "execution_count": null,
   "metadata": {
    "collapsed": true
   },
   "outputs": [],
   "source": [
    "England_Wales = pd.read_csv('data/England_Wales.csv',  thousands=',')\n",
    "Chile = pd.read_csv('data/Chile.csv',  thousands=',')\n",
    "Russia = pd.read_csv('data/Russia.csv',  thousands=',')\n",
    "Mauritius = pd.read_csv('data/Mauritius.csv', thousands=',')"
   ]
  },
  {
   "cell_type": "markdown",
   "metadata": {},
   "source": [
    "First, we check how our data roughly looks like!"
   ]
  },
  {
   "cell_type": "code",
   "execution_count": null,
   "metadata": {
    "scrolled": true
   },
   "outputs": [],
   "source": [
    "Chile.head()"
   ]
  },
  {
   "cell_type": "markdown",
   "metadata": {},
   "source": [
    "We are also working with **real** data here. This implies that a lot of the data we have are going to, unfortunately, be a little dirty, so we need to go through the process of finding out everything. For example, we had to separate everything by the thousands, or else, the program recognized it as a string!\n",
    "\n",
    "Another issue that we face is that the column names may not necessarily be clean. Guess what - we have a method to find out what the column names are exactly encoded as!"
   ]
  },
  {
   "cell_type": "code",
   "execution_count": null,
   "metadata": {},
   "outputs": [],
   "source": [
    "Chile.columns.tolist()"
   ]
  },
  {
   "cell_type": "markdown",
   "metadata": {},
   "source": [
    "Now, let's go through our process of finding the x and y-axis values, and also make them a little more descriptive this time!"
   ]
  },
  {
   "cell_type": "code",
   "execution_count": null,
   "metadata": {
    "collapsed": true
   },
   "outputs": [],
   "source": [
    "year = Chile['Year\\r'].astype(int)\n",
    "pop = Chile['Population\\r'].astype(int)\n",
    "birth_per_pop = 10000 * Chile['LiveBirths\\r'] / pop\n",
    "death_per_pop = 10000 * Chile['Deaths'] / pop"
   ]
  },
  {
   "cell_type": "code",
   "execution_count": null,
   "metadata": {},
   "outputs": [],
   "source": [
    "# Go bears for gold and blue!\n",
    "plt.plot(year, birth_per_pop, color='gold')\n",
    "plt.plot(year, death_per_pop, color='blue')\n",
    "plt.xlabel('Year')\n",
    "plt.ylabel('Birth/Death Rate')\n",
    "\n",
    "plt.title('Birth/Death Rate of Chile by Year')\n",
    "plt.grid(True)\n",
    "\n",
    "plt.show()"
   ]
  },
  {
   "cell_type": "markdown",
   "metadata": {},
   "source": [
    "---\n",
    "### Exercise: \n",
    "Let's now do the same for all the other countries: Russia and Mauritius"
   ]
  },
  {
   "cell_type": "code",
   "execution_count": null,
   "metadata": {},
   "outputs": [],
   "source": [
    "Russia = Russia.dropna()\n",
    "Russia.columns.tolist()"
   ]
  },
  {
   "cell_type": "code",
   "execution_count": null,
   "metadata": {},
   "outputs": [],
   "source": [
    "Russia.head()"
   ]
  },
  {
   "cell_type": "code",
   "execution_count": null,
   "metadata": {
    "collapsed": true
   },
   "outputs": [],
   "source": [
    "year = Russia['Year\\r'].astype(int)\n",
    "pop = Russia['\\rPopulation\\r'].astype(int)\n",
    "birth_per_pop = 100 * Russia['LiveBirths'] / pop\n",
    "death_per_pop = 100 * Russia['Deaths\\r'] / pop"
   ]
  },
  {
   "cell_type": "code",
   "execution_count": null,
   "metadata": {},
   "outputs": [],
   "source": [
    "plt.plot(year, birth_per_pop, color='gold')\n",
    "plt.plot(year, death_per_pop, color='blue')\n",
    "plt.xlabel('Year')\n",
    "plt.ylabel('Birth/Death Rate')\n",
    "plt.title('Birth/Death Rate of Russia by Year')\n",
    "plt.grid(True)\n",
    "\n",
    "plt.show()"
   ]
  },
  {
   "cell_type": "markdown",
   "metadata": {},
   "source": [
    "### Mauritius Data"
   ]
  },
  {
   "cell_type": "code",
   "execution_count": null,
   "metadata": {
    "collapsed": true
   },
   "outputs": [],
   "source": [
    "Mauritius = Mauritius.dropna()"
   ]
  },
  {
   "cell_type": "code",
   "execution_count": null,
   "metadata": {
    "collapsed": true
   },
   "outputs": [],
   "source": [
    "year = Mauritius['Year\\r'].astype(int)\n",
    "pop = Mauritius['Population\\r'].astype(int)\n",
    "birth_per_pop = 1000 * Mauritius['LiveBirths\\r'].astype(float) / pop\n",
    "death_per_pop = 1000 * Mauritius['Deaths\\r'].astype(float) / pop"
   ]
  },
  {
   "cell_type": "code",
   "execution_count": null,
   "metadata": {
    "scrolled": true
   },
   "outputs": [],
   "source": [
    "plt.plot(year, birth_per_pop, color='gold')\n",
    "plt.plot(year, death_per_pop, color='blue')\n",
    "plt.xlabel('Year')\n",
    "plt.ylabel('Birth/Death Rate')\n",
    "plt.title('Birth/Death Rate of Mauritius by Year')\n",
    "plt.grid(True)\n",
    "\n",
    "plt.show()"
   ]
  },
  {
   "cell_type": "markdown",
   "metadata": {
    "collapsed": true
   },
   "source": [
    "### [Advanced] England and Wales Data"
   ]
  },
  {
   "cell_type": "markdown",
   "metadata": {},
   "source": [
    "This is very interesting because we are now going to work with **merging** datasets together, which is a truly powerful technique when we work with large datasets! \n",
    "\n",
    "First, as usual, let's import our datasets!"
   ]
  },
  {
   "cell_type": "code",
   "execution_count": null,
   "metadata": {
    "collapsed": true
   },
   "outputs": [],
   "source": [
    "EW_Year = pd.read_csv('data/england_wales_year.csv',  thousands=',')\n",
    "EW_Rates =  pd.read_csv('data/england_wales_rates.csv',  thousands=',')"
   ]
  },
  {
   "cell_type": "markdown",
   "metadata": {},
   "source": [
    "Let's have a look at what each data entails. "
   ]
  },
  {
   "cell_type": "code",
   "execution_count": null,
   "metadata": {
    "scrolled": true
   },
   "outputs": [],
   "source": [
    "EW_Year"
   ]
  },
  {
   "cell_type": "code",
   "execution_count": null,
   "metadata": {},
   "outputs": [],
   "source": [
    "EW_Rates"
   ]
  },
  {
   "cell_type": "markdown",
   "metadata": {},
   "source": [
    "Uh-oh! Do you notice the issue here? The two datasets have different start and end dates! Yikes!\n",
    "\n",
    "To fix this, we are going to merge the two datasets together. Ultimately, this means we will end up with a smaller dataset than we would like, but we cannot reproduce the graph without the entirety of data. \n",
    "\n",
    "Let's now merge the two datasets together"
   ]
  },
  {
   "cell_type": "code",
   "execution_count": null,
   "metadata": {},
   "outputs": [],
   "source": [
    "England_Wales = EW_Year.merge(EW_Rates, on='Year', how='inner')\n",
    "England_Wales"
   ]
  },
  {
   "cell_type": "markdown",
   "metadata": {},
   "source": [
    "Much better. Our dataset has reduced in size, but we have successfully converted the data into a form we can work with. Let's now use our previous skills to draw beautiful graphs for them. \n",
    "\n",
    "First, let's grab the column names. "
   ]
  },
  {
   "cell_type": "code",
   "execution_count": null,
   "metadata": {},
   "outputs": [],
   "source": [
    "England_Wales.columns.tolist()"
   ]
  },
  {
   "cell_type": "code",
   "execution_count": null,
   "metadata": {
    "collapsed": true
   },
   "outputs": [],
   "source": [
    "x_axis = England_Wales['Year'].astype(int)\n",
    "y_axis = England_Wales['UK'].astype(int)\n",
    "y_new = England_Wales['BirthRate']\n",
    "y_new2 = England_Wales['DeathRate']"
   ]
  },
  {
   "cell_type": "code",
   "execution_count": null,
   "metadata": {},
   "outputs": [],
   "source": [
    "# Go bears for gold and blue!\n",
    "plt.plot(x_axis, y_new, color='gold')\n",
    "plt.plot(x_axis, y_new2, color='blue')\n",
    "plt.xlabel('Year')\n",
    "plt.ylabel('Birth/Death Rate')\n",
    "plt.title('Population of England/Wales by Year')\n",
    "plt.grid(True)\n",
    "\n",
    "plt.show()"
   ]
  },
  {
   "cell_type": "code",
   "execution_count": null,
   "metadata": {},
   "outputs": [],
   "source": [
    "England_Wales.describe()"
   ]
  },
  {
   "cell_type": "code",
   "execution_count": null,
   "metadata": {},
   "outputs": [],
   "source": [
    "England_Wales.mean()"
   ]
  },
  {
   "cell_type": "code",
   "execution_count": null,
   "metadata": {},
   "outputs": [],
   "source": [
    "England_Wales.std()"
   ]
  },
  {
   "cell_type": "code",
   "execution_count": null,
   "metadata": {
    "scrolled": true
   },
   "outputs": [],
   "source": [
    "England_Wales.loc[England_Wales['BirthRate'].idxmax()]"
   ]
  },
  {
   "cell_type": "code",
   "execution_count": null,
   "metadata": {},
   "outputs": [],
   "source": [
    "England_Wales.loc[England_Wales['BirthRate'].idxmin()]"
   ]
  },
  {
   "cell_type": "markdown",
   "metadata": {},
   "source": [
    "---\n",
    "## 4. What's Next?"
   ]
  },
  {
   "cell_type": "markdown",
   "metadata": {
    "collapsed": true
   },
   "source": [
    "Please help us understand your views of this module with this short survey: \n",
    "https://docs.google.com/forms/d/e/1FAIpQLSe54U3E64kYFWwQHSUpAvWYMuJOdKzbHDZjPa3nMUlHSSs0PQ/viewform\n",
    "\n",
    "Data science is a fast-growing field with applications in almost every subject you can imagine. Students and researchers alike have used Jupyter notebooks and data-driven methods to do everything from completing a lower-division class problem set to presenting a graduate research project. \n",
    "\n",
    "If you'd like to learn more about how to incorporate data science into your academic career:\n",
    "\n",
    "* [DATA-8](http://data8.org) is offered every semester and is a great introduction to coding and statistics. The website includes links to the textbook, syllibi, and past homeworks.\n",
    "* Data Science [Connector Courses](https://data.berkeley.edu/education/connectors) teach applied data science in everything from literature to cancer research. They can be taken with or after DATA-8.\n",
    "* The Berkeley Institute for Data Science ([BIDS](https://bids.berkeley.edu/)) hosts data science talks, research resources organized by field, and office hours for those interested in more in-depth data science research.\n",
    "* [DLAB](http://dlab.berkeley.edu/) also offers workshops and consulting to help you hone your skills."
   ]
  }
 ],
 "metadata": {
  "kernelspec": {
   "display_name": "Python 3",
   "language": "python",
   "name": "python3"
  },
  "language_info": {
   "codemirror_mode": {
    "name": "ipython",
    "version": 3
   },
   "file_extension": ".py",
   "mimetype": "text/x-python",
   "name": "python",
   "nbconvert_exporter": "python",
   "pygments_lexer": "ipython3",
   "version": "3.5.4"
  }
 },
 "nbformat": 4,
 "nbformat_minor": 2
}
